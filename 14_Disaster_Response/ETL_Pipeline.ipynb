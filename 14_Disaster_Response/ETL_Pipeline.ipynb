{
 "cells": [
  {
   "cell_type": "code",
   "execution_count": 1,
   "metadata": {},
   "outputs": [],
   "source": [
    "# import libraries\n",
    "import sys\n",
    "import pandas as pd\n",
    "from sqlalchemy import create_engine"
   ]
  },
  {
   "cell_type": "code",
   "execution_count": 2,
   "metadata": {},
   "outputs": [],
   "source": [
    "def load_data(messages_filepath, categories_filepath):\n",
    "    \"\"\"\n",
    "    This function loads the message and categories files \n",
    "    merge them and return the new dataframe \n",
    "    Input: 2 csv files path\n",
    "        messages_filepath: messages file path\n",
    "        categories: the categories dataset filepath\n",
    "    Output: Pandas dataframe of the merged csv files\n",
    "    \"\"\"\n",
    "    messages = pd.read_csv(messages_filepath)\n",
    "    categories = pd.read_csv(categories_filepath)\n",
    "\n",
    "    df = messages.merge(categories, how='inner', on= 'id')\n",
    "    return df"
   ]
  },
  {
   "cell_type": "code",
   "execution_count": 3,
   "metadata": {},
   "outputs": [],
   "source": [
    "def clean_data(df):\n",
    "    \"\"\"\n",
    "        Takes a Dataframe and perform cleaning operations such as\n",
    "        expanding the multiple categories into seperate columns, \n",
    "        extract categories values, replace the previous categories with new columns\n",
    "        and removing duplicates\n",
    "        Input: DataFrame\n",
    "        Output: cleaned dataframe\n",
    "    \"\"\"\n",
    "    # split categories into seperate categories\n",
    "    categories = df.categories.str.split(';', expand=True)\n",
    "    \n",
    "    # select the first row of the categories dataframe\n",
    "    row = categories.iloc[0]\n",
    "    \n",
    "    # use the first row to extract categories names\n",
    "    category_colnames = row.apply(lambda x: x[:-2])\n",
    "    \n",
    "    # rename the columns of `categories`\n",
    "    categories.columns = category_colnames\n",
    "    \n",
    "    #convert categories values to numeric instead of strings\n",
    "    for column in categories:\n",
    "        categories[column] = categories[column].str[-1]\n",
    "        # convert column from string to numeric\n",
    "        categories[column] = categories[column].astype(int)\n",
    "    \n",
    "    # replace categories column in df \n",
    "    df.drop(columns = ['categories'], inplace=True)\n",
    "    # concatenate the original dataframe with the new `categories` dataframe\n",
    "    df = df.join(categories)\n",
    "    \n",
    "    #drop duplicates\n",
    "    df.drop_duplicates(inplace=True)\n",
    "    \n",
    "    return df"
   ]
  },
  {
   "cell_type": "code",
   "execution_count": 4,
   "metadata": {},
   "outputs": [],
   "source": [
    "def save_data(df, database_filename):\n",
    "    \"\"\"\n",
    "    Save the cleaned dataframe into the given database \n",
    "    input: \n",
    "        df: dataframe\n",
    "        database_filename: database to store the cleaned dataframe \n",
    "    \n",
    "    \"\"\"\n",
    "    engine = create_engine('sqlite:///'+ database_filename)\n",
    "    df.to_sql('messages', engine, index=False)  "
   ]
  },
  {
   "cell_type": "code",
   "execution_count": 5,
   "metadata": {},
   "outputs": [],
   "source": [
    "def main(messages_filepath, categories_filepath, database_filepath):\n",
    "    print('Loading data...\\n    MESSAGES: {}\\n    CATEGORIES: {}'\n",
    "          .format(messages_filepath, categories_filepath))\n",
    "    df = load_data(messages_filepath, categories_filepath)\n",
    "\n",
    "    print('Cleaning data...')\n",
    "    df = clean_data(df)\n",
    "\n",
    "    print('Saving data...\\n    DATABASE: {}'.format(database_filepath))\n",
    "    save_data(df, database_filepath)\n",
    "\n",
    "    print('Cleaned data saved to database!')"
   ]
  },
  {
   "cell_type": "code",
   "execution_count": 9,
   "metadata": {},
   "outputs": [],
   "source": [
    "messages_filepath = 'data/disaster_messages.csv'\n",
    "categories_filepath = 'data/disaster_categories.csv'\n",
    "database_filepath = 'data/DisasterResponse.db'"
   ]
  },
  {
   "cell_type": "code",
   "execution_count": 10,
   "metadata": {
    "scrolled": true
   },
   "outputs": [
    {
     "name": "stdout",
     "output_type": "stream",
     "text": [
      "Loading data...\n",
      "    MESSAGES: data/disaster_messages.csv\n",
      "    CATEGORIES: data/disaster_categories.csv\n",
      "Cleaning data...\n",
      "Saving data...\n",
      "    DATABASE: data/DisasterResponse.db\n",
      "Cleaned data saved to database!\n"
     ]
    }
   ],
   "source": [
    "main(messages_filepath, categories_filepath, database_filepath)"
   ]
  }
 ],
 "metadata": {
  "kernelspec": {
   "display_name": "Python 3",
   "language": "python",
   "name": "python3"
  },
  "language_info": {
   "codemirror_mode": {
    "name": "ipython",
    "version": 3
   },
   "file_extension": ".py",
   "mimetype": "text/x-python",
   "name": "python",
   "nbconvert_exporter": "python",
   "pygments_lexer": "ipython3",
   "version": "3.7.6"
  }
 },
 "nbformat": 4,
 "nbformat_minor": 2
}
